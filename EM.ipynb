{
 "cells": [
  {
   "cell_type": "code",
   "execution_count": 6,
   "metadata": {},
   "outputs": [
    {
     "name": "stdout",
     "output_type": "stream",
     "text": [
      "[[[ 3.09515898  4.3953626   3.13306641]\n",
      "  [ 3.09515898  4.3953626   3.13306641]\n",
      "  [ 3.09515898  4.3953626   3.13306641]\n",
      "  [ 3.09515898  4.3953626   3.13306641]\n",
      "  [ 3.09515898  4.3953626   3.13306641]]\n",
      "\n",
      " [[ 3.09515898  4.3953626   3.13306641]\n",
      "  [ 3.09515898  4.3953626   3.13306641]\n",
      "  [ 3.09515898  4.3953626   3.13306641]\n",
      "  [ 3.09515898  4.3953626   3.13306641]\n",
      "  [ 3.09515898  4.3953626   3.13306641]]\n",
      "\n",
      " [[ 3.09515898  4.3953626   3.13306641]\n",
      "  [ 3.09515898  4.3953626   3.13306641]\n",
      "  [ 3.09515898  4.3953626   3.13306641]\n",
      "  [ 3.09515898  4.3953626   3.13306641]\n",
      "  [ 3.09515898  4.3953626   3.13306641]]\n",
      "\n",
      " [[ 3.09515898  4.3953626   3.13306641]\n",
      "  [ 3.09515898  4.3953626   3.13306641]\n",
      "  [ 3.09515898  4.3953626   3.13306641]\n",
      "  [ 3.09515898  4.3953626   3.13306641]\n",
      "  [ 3.09515898  4.3953626   3.13306641]]\n",
      "\n",
      " [[ 3.09515898  4.3953626   3.13306641]\n",
      "  [ 3.09515898  4.3953626   3.13306641]\n",
      "  [ 3.09515898  4.3953626   3.13306641]\n",
      "  [ 3.09515898  4.3953626   3.13306641]\n",
      "  [ 3.09515898  4.3953626   3.13306641]]]\n",
      "[ 0.  0.  0.  0.  0.]\n"
     ]
    },
    {
     "ename": "ValueError",
     "evalue": "'axis' entry is out of bounds",
     "output_type": "error",
     "traceback": [
      "\u001b[1;31m---------------------------------------------------------------------------\u001b[0m",
      "\u001b[1;31mValueError\u001b[0m                                Traceback (most recent call last)",
      "\u001b[1;32m<ipython-input-6-68ea8399d046>\u001b[0m in \u001b[0;36m<module>\u001b[1;34m()\u001b[0m\n\u001b[0;32m     55\u001b[0m     \u001b[0mprint\u001b[0m\u001b[1;33m(\u001b[0m\u001b[0mkkkk\u001b[0m\u001b[1;33m)\u001b[0m\u001b[1;33m\u001b[0m\u001b[0m\n\u001b[0;32m     56\u001b[0m     \u001b[0mdi2\u001b[0m\u001b[1;33m=\u001b[0m\u001b[0mnp\u001b[0m\u001b[1;33m.\u001b[0m\u001b[0msum\u001b[0m\u001b[1;33m(\u001b[0m\u001b[0mkkkk\u001b[0m\u001b[1;33m)\u001b[0m\u001b[1;33m\u001b[0m\u001b[0m\n\u001b[1;32m---> 57\u001b[1;33m     \u001b[0mdi3\u001b[0m\u001b[1;33m=\u001b[0m\u001b[0mnp\u001b[0m\u001b[1;33m.\u001b[0m\u001b[0msum\u001b[0m\u001b[1;33m(\u001b[0m\u001b[0mnp\u001b[0m\u001b[1;33m.\u001b[0m\u001b[0msum\u001b[0m\u001b[1;33m(\u001b[0m\u001b[0mnp\u001b[0m\u001b[1;33m.\u001b[0m\u001b[0msum\u001b[0m\u001b[1;33m(\u001b[0m\u001b[0mabs\u001b[0m\u001b[1;33m(\u001b[0m\u001b[0msi\u001b[0m\u001b[1;33m-\u001b[0m\u001b[0ms\u001b[0m\u001b[1;33m)\u001b[0m\u001b[1;33m,\u001b[0m\u001b[0maxis\u001b[0m\u001b[1;33m=\u001b[0m\u001b[1;36m0\u001b[0m\u001b[1;33m)\u001b[0m\u001b[1;33m,\u001b[0m\u001b[0maxis\u001b[0m\u001b[1;33m=\u001b[0m\u001b[1;36m1\u001b[0m\u001b[1;33m)\u001b[0m\u001b[1;33m,\u001b[0m\u001b[0maxis\u001b[0m\u001b[1;33m=\u001b[0m\u001b[1;36m2\u001b[0m\u001b[1;33m)\u001b[0m\u001b[1;33m\u001b[0m\u001b[0m\n\u001b[0m\u001b[0;32m     58\u001b[0m     \u001b[0mdi\u001b[0m\u001b[1;33m=\u001b[0m\u001b[0mdi1\u001b[0m\u001b[1;33m+\u001b[0m\u001b[0mdi2\u001b[0m\u001b[1;33m+\u001b[0m\u001b[0mdi3\u001b[0m\u001b[1;33m\u001b[0m\u001b[0m\n\u001b[0;32m     59\u001b[0m     \u001b[0mit\u001b[0m\u001b[1;33m=\u001b[0m\u001b[0mit\u001b[0m\u001b[1;33m+\u001b[0m\u001b[1;36m1\u001b[0m\u001b[1;33m\u001b[0m\u001b[0m\n",
      "\u001b[1;32mD:\\Anaconda\\lib\\site-packages\\numpy\\core\\fromnumeric.py\u001b[0m in \u001b[0;36msum\u001b[1;34m(a, axis, dtype, out, keepdims)\u001b[0m\n\u001b[0;32m   1812\u001b[0m             \u001b[1;32mreturn\u001b[0m \u001b[0msum\u001b[0m\u001b[1;33m(\u001b[0m\u001b[0maxis\u001b[0m\u001b[1;33m=\u001b[0m\u001b[0maxis\u001b[0m\u001b[1;33m,\u001b[0m \u001b[0mdtype\u001b[0m\u001b[1;33m=\u001b[0m\u001b[0mdtype\u001b[0m\u001b[1;33m,\u001b[0m \u001b[0mout\u001b[0m\u001b[1;33m=\u001b[0m\u001b[0mout\u001b[0m\u001b[1;33m,\u001b[0m \u001b[1;33m**\u001b[0m\u001b[0mkwargs\u001b[0m\u001b[1;33m)\u001b[0m\u001b[1;33m\u001b[0m\u001b[0m\n\u001b[0;32m   1813\u001b[0m     return _methods._sum(a, axis=axis, dtype=dtype,\n\u001b[1;32m-> 1814\u001b[1;33m                          out=out, **kwargs)\n\u001b[0m\u001b[0;32m   1815\u001b[0m \u001b[1;33m\u001b[0m\u001b[0m\n\u001b[0;32m   1816\u001b[0m \u001b[1;33m\u001b[0m\u001b[0m\n",
      "\u001b[1;32mD:\\Anaconda\\lib\\site-packages\\numpy\\core\\_methods.py\u001b[0m in \u001b[0;36m_sum\u001b[1;34m(a, axis, dtype, out, keepdims)\u001b[0m\n\u001b[0;32m     30\u001b[0m \u001b[1;33m\u001b[0m\u001b[0m\n\u001b[0;32m     31\u001b[0m \u001b[1;32mdef\u001b[0m \u001b[0m_sum\u001b[0m\u001b[1;33m(\u001b[0m\u001b[0ma\u001b[0m\u001b[1;33m,\u001b[0m \u001b[0maxis\u001b[0m\u001b[1;33m=\u001b[0m\u001b[1;32mNone\u001b[0m\u001b[1;33m,\u001b[0m \u001b[0mdtype\u001b[0m\u001b[1;33m=\u001b[0m\u001b[1;32mNone\u001b[0m\u001b[1;33m,\u001b[0m \u001b[0mout\u001b[0m\u001b[1;33m=\u001b[0m\u001b[1;32mNone\u001b[0m\u001b[1;33m,\u001b[0m \u001b[0mkeepdims\u001b[0m\u001b[1;33m=\u001b[0m\u001b[1;32mFalse\u001b[0m\u001b[1;33m)\u001b[0m\u001b[1;33m:\u001b[0m\u001b[1;33m\u001b[0m\u001b[0m\n\u001b[1;32m---> 32\u001b[1;33m     \u001b[1;32mreturn\u001b[0m \u001b[0mumr_sum\u001b[0m\u001b[1;33m(\u001b[0m\u001b[0ma\u001b[0m\u001b[1;33m,\u001b[0m \u001b[0maxis\u001b[0m\u001b[1;33m,\u001b[0m \u001b[0mdtype\u001b[0m\u001b[1;33m,\u001b[0m \u001b[0mout\u001b[0m\u001b[1;33m,\u001b[0m \u001b[0mkeepdims\u001b[0m\u001b[1;33m)\u001b[0m\u001b[1;33m\u001b[0m\u001b[0m\n\u001b[0m\u001b[0;32m     33\u001b[0m \u001b[1;33m\u001b[0m\u001b[0m\n\u001b[0;32m     34\u001b[0m \u001b[1;32mdef\u001b[0m \u001b[0m_prod\u001b[0m\u001b[1;33m(\u001b[0m\u001b[0ma\u001b[0m\u001b[1;33m,\u001b[0m \u001b[0maxis\u001b[0m\u001b[1;33m=\u001b[0m\u001b[1;32mNone\u001b[0m\u001b[1;33m,\u001b[0m \u001b[0mdtype\u001b[0m\u001b[1;33m=\u001b[0m\u001b[1;32mNone\u001b[0m\u001b[1;33m,\u001b[0m \u001b[0mout\u001b[0m\u001b[1;33m=\u001b[0m\u001b[1;32mNone\u001b[0m\u001b[1;33m,\u001b[0m \u001b[0mkeepdims\u001b[0m\u001b[1;33m=\u001b[0m\u001b[1;32mFalse\u001b[0m\u001b[1;33m)\u001b[0m\u001b[1;33m:\u001b[0m\u001b[1;33m\u001b[0m\u001b[0m\n",
      "\u001b[1;31mValueError\u001b[0m: 'axis' entry is out of bounds"
     ]
    }
   ],
   "source": [
    "import numpy as np\n",
    "import numpy.matlib\n",
    "import math\n",
    "import matplotlib.pyplot as plt\n",
    "from math import floor, ceil\n",
    "import random\n",
    "\n",
    "def X(d,p1,mi): #update function\n",
    "    for i2 in range (3):\n",
    "        m6=np.mat(p1[:,i2]).T\n",
    "        m2=np.hstack((m6,m6,m6,m6,m6))\n",
    "        m3=np.multiply(d,m2)\n",
    "        m4=np.sum(m3,axis=0)\n",
    "        m5=np.sum(p1[:,i2],axis=0)\n",
    "        m[i2,:]=m4/m5\n",
    "        inter1=np.zeros((5,5))\n",
    "        for j2 in range(len(d)):\n",
    "            inter1=inter1+p1[j2,i2]*(d[j2,:]-mi[i2,:]).T@(d[j2,:]-mi[i2,:])\n",
    "        s[:,:,i2]=inter1/np.sum(p1[:,i2],axis=0)\n",
    "        p[0,i2]=np.sum(p1[:,i2],axis=0)/len(d)\n",
    "    return p,s,m\n",
    "\n",
    "d=np.loadtxt('GMDataSet_HW7.txt')\n",
    "m=np.zeros((3,len(d[0]))) #means\n",
    "s=np.zeros((len(d[0]),len(d[0]),3))#covariance\n",
    "p=np.zeros((1,3)) #proportion\n",
    "for i in range(3):\n",
    "    ran=random.randint(1, len(d))\n",
    "    m[i,:]=d[ran,:]\n",
    "    s[:,:,i]=np.eye((len(d[0])))\n",
    "    p[0,i]=0.25\n",
    "it=1\n",
    "th=10**(-6) #threshold\n",
    "di=10 #difference\n",
    "p1=np.zeros((len(d),3))\n",
    "\n",
    "while  di>=th:\n",
    "    for i in range(len(d)):\n",
    "        for j in range (3):\n",
    "            inter=p[0,j]*(1/(((2*math.pi)**len(d[0])*np.linalg.det(s[:,:,j]))**0.5))\n",
    "            p1[i,j]=inter*np.exp(-0.5*(d[i,:]-m[j,:])@(np.linalg.inv(s[:,:,j]))@(d[i,:]-m[j,:]).T)\n",
    "            \n",
    "    m1=np.mat(np.sum(p1,axis=1)).T\n",
    "    mm=np.hstack((m1,m1,m1))\n",
    "    for i1 in range(len(p1)):\n",
    "        for j1 in range(len(p1[0])):\n",
    "            p1[i1,j1]=p1[i1,j1]/mm[i1,j1]\n",
    "    mi=m #store last itineration values\n",
    "    si=s\n",
    "    pi=p\n",
    "    p,s,m=X(d,p1,mi) #update values\n",
    "    di1=np.sum(pi-p,axis=1)\n",
    "    print(s)\n",
    "    kkkk=np.sum(abs(mi-m),axis=0)\n",
    "    print(kkkk)\n",
    "    di2=np.sum(kkkk)\n",
    "    di3=np.sum(np.sum(np.sum(abs(si-s),axis=0),axis=1),axis=2)\n",
    "    di=di1+di2+di3\n",
    "    it=it+1\n",
    "print(m)\n",
    "print(p)\n",
    "print(si)\n"
   ]
  },
  {
   "cell_type": "code",
   "execution_count": null,
   "metadata": {
    "collapsed": true
   },
   "outputs": [],
   "source": []
  }
 ],
 "metadata": {
  "kernelspec": {
   "display_name": "Python 3",
   "language": "python",
   "name": "python3"
  },
  "language_info": {
   "codemirror_mode": {
    "name": "ipython",
    "version": 3
   },
   "file_extension": ".py",
   "mimetype": "text/x-python",
   "name": "python",
   "nbconvert_exporter": "python",
   "pygments_lexer": "ipython3",
   "version": "3.6.1"
  }
 },
 "nbformat": 4,
 "nbformat_minor": 2
}
