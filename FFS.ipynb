{
 "cells": [
  {
   "cell_type": "code",
   "execution_count": 29,
   "metadata": {
    "collapsed": true
   },
   "outputs": [],
   "source": [
    "import numpy as np\n",
    "import numpy.matlib\n",
    "import math\n",
    "import matplotlib.pyplot as plt\n",
    "from math import floor, ceil\n",
    "import random "
   ]
  },
  {
   "cell_type": "code",
   "execution_count": 30,
   "metadata": {},
   "outputs": [
    {
     "name": "stdout",
     "output_type": "stream",
     "text": [
      "1599 13\n",
      "4898 13\n"
     ]
    }
   ],
   "source": [
    "red=np.loadtxt('RedWine_HW7.txt')\n",
    "print(len(red),len(red[0]))\n",
    "white=np.loadtxt('WhiteWine_HW7.txt')\n",
    "print(len(white),len(white[0]))"
   ]
  },
  {
   "cell_type": "code",
   "execution_count": 31,
   "metadata": {},
   "outputs": [
    {
     "name": "stdout",
     "output_type": "stream",
     "text": [
      "0\n"
     ]
    }
   ],
   "source": [
    "fish=np.zeros((1,len(red[0]))) #用来储存Fisher ratio\n",
    "result=np.zeros((2,len(red[0])))  #第一行按被选顺序储存feature 序号，第二行储存对应featuer的fisher ratio\n",
    "inter=[]  #存放已经被选取的feature\n",
    "print(len(inter))\n",
    "n=len(red[0])\n",
    "t=0.02"
   ]
  },
  {
   "cell_type": "code",
   "execution_count": 32,
   "metadata": {},
   "outputs": [
    {
     "name": "stdout",
     "output_type": "stream",
     "text": [
      "6\n",
      "3\n",
      "5\n",
      "10\n",
      "11\n",
      "12\n",
      "0\n",
      "1\n",
      "8\n",
      "9\n",
      "2\n",
      "4\n",
      "7\n"
     ]
    }
   ],
   "source": [
    "while n!=0: #看feature被选完没\n",
    "    rs=np.zeros((len(red),0))#空的列向量\n",
    "    ws=np.zeros((len(white),0))\n",
    "    for k in range(len(inter)):\n",
    "        rs=np.hstack((rs,np.mat(red[:,inter[k]]).T)) #在选取下一个feature之前，先把已被选取的feature对应的data合并进来\n",
    "        ws=np.hstack((ws,np.mat(white[:,inter[k]]).T))\n",
    "    for i in range (len(red[0])):\n",
    "        if (i in inter)==True:  #由于原数据 red、white 没有减去选了的feature，所以需要跳过选了的feature\n",
    "            continue\n",
    "        else:\n",
    "            m1=np.hstack((ws,np.mat(white[:,i]).T))  #np.mat(white[:,i]).T是列向量，所有选过了的feature加上当前的这个没选的feature，求一个fisher ratio\n",
    "            m2=np.hstack((rs,np.mat(red[:,i]).T))\n",
    "            a=np.vstack((m2,m1)) #v是纵向拼接，h是横向拼接\n",
    "            mur=np.mean(m2,axis=0)\n",
    "            muw=np.mean(m1,axis=0)\n",
    "            mua=np.mean(a,axis=0)\n",
    "            sm=((a-np.tile(mua,(len(a),1))).T)@(a-np.tile(mua,(len(a),1)))/len(a)\n",
    "            sw1=((m2-np.tile(mur,(len(red),1))).T)@((m2-np.tile(mur,(len(red),1))))/len(red)\n",
    "            sw=sw1+((m1-np.tile(muw,(len(white),1))).T)@((m1-np.tile(muw,(len(white),1))))/len(white)\n",
    "            fi=sm/(sw+t*np.eye((len(sw))))\n",
    "            i1=0\n",
    "            for j in range(len(fi)):  #求trace\n",
    "                i1=i1+fi[j,j]\n",
    "            fish[0,i]=i1  #选取一个feature，需要把所有还没被选的feature 的fisher ratio计算出来\n",
    "    po=np.argmax(fish) #返回fisher ratio最大值的index。\n",
    "    print(po)\n",
    "    inter.append(po)\n",
    "    result[0,len(red[0])-n]=po #顺序储存，先被选的放前面\n",
    "    result[1,len(red[0])-n]=fish[0,po]\n",
    "    #fisher ratio置零，以便储存选取下一个feature时计算出的fisher ratio\n",
    "    #那么已经选过的feature因为在for的最开始会跳过，所以对应fisher ratio为0，不影响fish中max的选取\n",
    "    fish=np.zeros((1,len(red[0]))) \n",
    "    n=n-1  #一个"
   ]
  },
  {
   "cell_type": "code",
   "execution_count": 27,
   "metadata": {},
   "outputs": [
    {
     "data": {
      "image/png": "[encoded data removed]",
      "text/plain": [
       "<matplotlib.figure.Figure at 0x8199ba8>"
      ]
     },
     "metadata": {},
     "output_type": "display_data"
    }
   ],
   "source": [
    "ra=result[1,:] #随着被选的feature数量增大， fisher ratio增大\n",
    "x=[1,2,3,4,5,6,7,8,9,10,11,12,13]\n",
    "plt.plot(x,ra)\n",
    "plt.ylabel('Fisher rate') \n",
    "plt.xlabel('Features')\n",
    "plt.show()"
   ]
  },
  {
   "cell_type": "code",
   "execution_count": null,
   "metadata": {
    "collapsed": true
   },
   "outputs": [],
   "source": [
    "ratio1 = final_matrix(2,:);\n",
    "ratio2 = ratio1(2:end);\n",
    "dif = ratio2-ratio1(1:end-1);\n",
    "% figure;\n",
    "% semilogy(ratio1);hold on\n",
    "figure;plot(ratio1);hold on\n",
    "scatter(1:13,ratio1,'LineWidth',1.5);\n",
    "grid on\n",
    "grid minor\n",
    "% plot(ratio1);\n",
    "figure;\n",
    "plot(dif);\n",
    "grid on\n",
    "grid minor"
   ]
  }
 ],
 "metadata": {
  "kernelspec": {
   "display_name": "Python 3",
   "language": "python",
   "name": "python3"
  },
  "language_info": {
   "codemirror_mode": {
    "name": "ipython",
    "version": 3
   },
   "file_extension": ".py",
   "mimetype": "text/x-python",
   "name": "python",
   "nbconvert_exporter": "python",
   "pygments_lexer": "ipython3",
   "version": "3.6.1"
  }
 },
 "nbformat": 4,
 "nbformat_minor": 2
}
