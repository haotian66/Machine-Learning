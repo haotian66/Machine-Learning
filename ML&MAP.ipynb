{
 "cells": [
  {
   "cell_type": "code",
   "execution_count": 219,
   "metadata": {
    "collapsed": true
   },
   "outputs": [],
   "source": [
    "import numpy as np\n",
    "import numpy.matlib\n",
    "import math"
   ]
  },
  {
   "cell_type": "code",
   "execution_count": 220,
   "metadata": {},
   "outputs": [],
   "source": [
    "m=0.2  #true mean of the Guassian\n",
    "v=10  #true variance of the Guassian\n",
    "ms=0.5 #set initial prior mean\n",
    "vs=0.1 #set initial prior variance\n",
    "ml=[]  #use an array to store ml result\n",
    "ma=[]  #use an array to store map result\n",
    "v1=[]  #use an array to store prior variance \n",
    "data=np.random.normal(m,v,10) # draw data from the Guassian\n"
   ]
  },
  {
   "cell_type": "code",
   "execution_count": 221,
   "metadata": {},
   "outputs": [
    {
     "name": "stdout",
     "output_type": "stream",
     "text": [
      "ML Solution:\n",
      "[8.9505083898850248, 2.1165986490190214, 6.4628911397014717, -0.26810066550310818, -1.2921275860669499, -1.6953176611559044, -4.793842244239559, -2.9254551965713209, -3.2583312321638749, -4.0003479177110446]\n",
      "MAT Solution:\n",
      "[0.58366839989985175, 0.61343403580507838, 0.77898470855686308, 0.7409088767728641, 0.65251598708417657, 0.53609448386566017, 0.24461356904740605, 0.058138935775716244, -0.14771093671708593, -0.39626816129734121]\n",
      "Variance\n",
      "[0.09900990099009901, 0.0970873786407767, 0.09433962264150943, 0.0909090909090909, 0.08695652173913042, 0.08264462809917354, 0.07812499999999999, 0.07352941176470587, 0.0689655172413793, 0.06451612903225805]\n"
     ]
    }
   ],
   "source": [
    "for i in range(10):\n",
    "    ml.append(np.mean(data[0:i+1]))#compute likelihood mean, add to the arrary\n",
    "    ma1=v*ms/((i+1)*vs+v)+(i+1)*vs*ml[i]/((i+1)*vs+v) #compute map by combining prior mean and likelihood mean\n",
    "    v2=v*vs/((i+1)*vs+v)  #compute prior variance\n",
    "    ma.append(ma1)\n",
    "    v1.append(v2)\n",
    "    ms=ma1  #update prior mean \n",
    "    vs=v2   #update prior variance\n",
    "\n",
    "print('ML Solution:')    \n",
    "print(ml)\n",
    "print('MAT Solution:')  \n",
    "print(ma)\n",
    "print('Variance')\n",
    "print(v1)"
   ]
  },
  {
   "cell_type": "markdown",
   "metadata": {},
   "source": [
    "   plt.plot(x, y1,\"b-\",linewidth=2)\n",
    "    plt.plot(x, y2,\"r-\",linewidth=2)\n",
    "    plt.axvline(ml[i],color = 'black',linestyle=\"--\")\n",
    "    plt.scatter(data[0:i],y3[0:i])\n",
    "    plt.title('Prior/Posterior Distribution Function')\n",
    "    label = [\"Poste\",\"Data\",\"ML\",\"Sample\"]\n",
    "    plt.legend(label, loc = 0, ncol = 2) \n",
    "    plt.grid(True)\n",
    "    plt.show()"
   ]
  },
  {
   "cell_type": "code",
   "execution_count": null,
   "metadata": {
    "collapsed": true
   },
   "outputs": [],
   "source": [
    "    x=np.mgrid[0:1:0.01] \n",
    "    y1=np.exp(-0.5*((x - ma1) ** 2) /(v2 **2))/(math.sqrt(2*math.pi)*v2)\n",
    "    y2=np.exp(-0.5*((x - m) ** 2) /(v **2))/(math.sqrt(2*math.pi)*v)\n",
    "    y3=np.exp(-0.5*((data - m) ** 2) /(v **2))/(math.sqrt(2*math.pi)*v)\n",
    "    plt.plot(x, y1,\"b-\",linewidth=2)\n",
    "    plt.plot(x, y2,\"r-\",linewidth=2)\n",
    "    plt.axvline(ml[i],color = 'black',linestyle=\"--\")\n",
    "    plt.scatter(data[0:i],y3[0:i])\n",
    "    plt.title('Prior/Posterior Distribution Function')\n",
    "    label = [\"Poste\",\"Data\",\"ML\",\"Sample\"]\n",
    "    plt.legend(label, loc = 0, ncol = 2) \n",
    "    plt.grid(True)\n",
    "    plt.show()"
   ]
  },
  {
   "cell_type": "code",
   "execution_count": null,
   "metadata": {
    "collapsed": true
   },
   "outputs": [],
   "source": []
  }
 ],
 "metadata": {
  "kernelspec": {
   "display_name": "Python 3",
   "language": "python",
   "name": "python3"
  },
  "language_info": {
   "codemirror_mode": {
    "name": "ipython",
    "version": 3
   },
   "file_extension": ".py",
   "mimetype": "text/x-python",
   "name": "python",
   "nbconvert_exporter": "python",
   "pygments_lexer": "ipython3",
   "version": "3.6.1"
  }
 },
 "nbformat": 4,
 "nbformat_minor": 2
}
